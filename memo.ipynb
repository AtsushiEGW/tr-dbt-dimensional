{
 "cells": [
  {
   "cell_type": "code",
   "execution_count": null,
   "id": "b6a9bdd8",
   "metadata": {},
   "outputs": [
    {
     "name": "stdout",
     "output_type": "stream",
     "text": [
      "defaults= {'encoding': 'utf-8', 'chunksize': 200000}\n",
      "tables= {'links': {'folder': 'links', 'filename_glob': 'links_*.csv', 'target_table': 'links', 'primary_key': ['movieId']}, 'movies': {'folder': 'movies', 'filename_glob': 'movies_*.csv', 'target_table': 'movies', 'primary_key': ['movieId']}, 'ratings': {'folder': 'ratings', 'filename_glob': 'ratings_*.csv', 'target_table': 'ratings', 'primary_key': ['userId', 'movieId']}, 'tags': {'folder': 'tags', 'filename_glob': 'tags_*.csv', 'target_table': 'tags', 'primary_key': ['userId', 'movieId', 'timestamp']}}\n"
     ]
    },
    {
     "data": {
      "text/plain": [
       "{'links': {'encoding': 'utf-8',\n",
       "  'chunksize': 200000,\n",
       "  'folder': 'links',\n",
       "  'filename_glob': 'links_*.csv',\n",
       "  'target_table': 'links',\n",
       "  'primary_key': ['movieId']},\n",
       " 'movies': {'encoding': 'utf-8',\n",
       "  'chunksize': 200000,\n",
       "  'folder': 'movies',\n",
       "  'filename_glob': 'movies_*.csv',\n",
       "  'target_table': 'movies',\n",
       "  'primary_key': ['movieId']},\n",
       " 'ratings': {'encoding': 'utf-8',\n",
       "  'chunksize': 200000,\n",
       "  'folder': 'ratings',\n",
       "  'filename_glob': 'ratings_*.csv',\n",
       "  'target_table': 'ratings',\n",
       "  'primary_key': ['userId', 'movieId']},\n",
       " 'tags': {'encoding': 'utf-8',\n",
       "  'chunksize': 200000,\n",
       "  'folder': 'tags',\n",
       "  'filename_glob': 'tags_*.csv',\n",
       "  'target_table': 'tags',\n",
       "  'primary_key': ['userId', 'movieId', 'timestamp']}}"
      ]
     },
     "execution_count": 6,
     "metadata": {},
     "output_type": "execute_result"
    }
   ],
   "source": [
    "import yaml\n",
    "from pathlib import Path\n",
    "\n",
    "file = Path('./ingestion/config/tables.yml')\n",
    "\n",
    "with file.open(\"r\", encoding=\"utf8\") as f:\n",
    "    cfg = yaml.safe_load(f)\n",
    "\n",
    "defaults = cfg.get(\"defaults\", {})\n",
    "tables = cfg.get(\"tables\", {})\n",
    "\n",
    "for table_name, spec in tables.items():\n",
    "    merged = defaults | spec\n",
    "    tables[table_name] = merged\n",
    "\n",
    "cfg[\"tables\"] = tables\n",
    "return cfg\n",
    "\n",
    "\n",
    "\n"
   ]
  }
 ],
 "metadata": {
  "kernelspec": {
   "display_name": "Python 3",
   "language": "python",
   "name": "python3"
  },
  "language_info": {
   "codemirror_mode": {
    "name": "ipython",
    "version": 3
   },
   "file_extension": ".py",
   "mimetype": "text/x-python",
   "name": "python",
   "nbconvert_exporter": "python",
   "pygments_lexer": "ipython3",
   "version": "3.12.11"
  }
 },
 "nbformat": 4,
 "nbformat_minor": 5
}
